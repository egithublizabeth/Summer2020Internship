{
 "cells": [
  {
   "cell_type": "code",
   "execution_count": 308,
   "metadata": {},
   "outputs": [
    {
     "name": "stdout",
     "output_type": "stream",
     "text": [
      "0.14.1\n",
      "1.4.1\n"
     ]
    }
   ],
   "source": [
    "#import libraries\n",
    "import pandas as pd\n",
    "import graphviz\n",
    "import pydot\n",
    "\n",
    "print(graphviz.__version__)\n",
    "print(pydot.__version__)"
   ]
  },
  {
   "cell_type": "code",
   "execution_count": 309,
   "metadata": {},
   "outputs": [
    {
     "data": {
      "text/html": [
       "<div>\n",
       "<style scoped>\n",
       "    .dataframe tbody tr th:only-of-type {\n",
       "        vertical-align: middle;\n",
       "    }\n",
       "\n",
       "    .dataframe tbody tr th {\n",
       "        vertical-align: top;\n",
       "    }\n",
       "\n",
       "    .dataframe thead th {\n",
       "        text-align: right;\n",
       "    }\n",
       "</style>\n",
       "<table border=\"1\" class=\"dataframe\">\n",
       "  <thead>\n",
       "    <tr style=\"text-align: right;\">\n",
       "      <th></th>\n",
       "      <th>ID</th>\n",
       "      <th>Name</th>\n",
       "      <th>Title</th>\n",
       "      <th>Reports To:</th>\n",
       "    </tr>\n",
       "  </thead>\n",
       "  <tbody>\n",
       "    <tr>\n",
       "      <th>0</th>\n",
       "      <td>82</td>\n",
       "      <td>Magneton</td>\n",
       "      <td>Manager</td>\n",
       "      <td>NaN</td>\n",
       "    </tr>\n",
       "    <tr>\n",
       "      <th>1</th>\n",
       "      <td>51</td>\n",
       "      <td>Dugtrio</td>\n",
       "      <td>Assitant Manager 1</td>\n",
       "      <td>82.0</td>\n",
       "    </tr>\n",
       "    <tr>\n",
       "      <th>2</th>\n",
       "      <td>34</td>\n",
       "      <td>Nidoking</td>\n",
       "      <td>Assitant Manager 2</td>\n",
       "      <td>82.0</td>\n",
       "    </tr>\n",
       "    <tr>\n",
       "      <th>3</th>\n",
       "      <td>61</td>\n",
       "      <td>Poliwhirl</td>\n",
       "      <td>Assitant Manager 3</td>\n",
       "      <td>82.0</td>\n",
       "    </tr>\n",
       "    <tr>\n",
       "      <th>4</th>\n",
       "      <td>56</td>\n",
       "      <td>Mankey</td>\n",
       "      <td>Supervisor</td>\n",
       "      <td>82.0</td>\n",
       "    </tr>\n",
       "  </tbody>\n",
       "</table>\n",
       "</div>"
      ],
      "text/plain": [
       "   ID       Name               Title  Reports To:\n",
       "0  82   Magneton             Manager          NaN\n",
       "1  51    Dugtrio  Assitant Manager 1         82.0\n",
       "2  34   Nidoking  Assitant Manager 2         82.0\n",
       "3  61  Poliwhirl  Assitant Manager 3         82.0\n",
       "4  56     Mankey          Supervisor         82.0"
      ]
     },
     "execution_count": 309,
     "metadata": {},
     "output_type": "execute_result"
    }
   ],
   "source": [
    "#cleaning the file, we want to create a df that resembles df_2\n",
    "#from the orig pokemon org csv, we are going to edit each record and insert it into a new df that will be \n",
    "#formatted like df_2\n",
    "df = pd.read_csv(\"Pokemon_Org.csv\")\n",
    "df.head(5)"
   ]
  },
  {
   "cell_type": "code",
   "execution_count": 310,
   "metadata": {},
   "outputs": [],
   "source": [
    "#create subset on the higher ups ie Executive, Managers, Supervisors\n",
    "first_level = df.loc[df['Title'] != \"Staff\", :]"
   ]
  },
  {
   "cell_type": "code",
   "execution_count": 311,
   "metadata": {},
   "outputs": [
    {
     "name": "stdout",
     "output_type": "stream",
     "text": [
      "31\n",
      "69\n",
      "27\n",
      "16\n"
     ]
    }
   ],
   "source": [
    "#create staff subsets based on supervisors\n",
    "mankey_56_staff = df.loc[df['Reports To:'] == 56, :]\n",
    "kabuto_140_staff = df.loc[df['Reports To:'] == 140, :]\n",
    "kakuna_14_staff = df.loc[df['Reports To:'] == 14, :]\n",
    "rhydon_112_staff = df.loc[df['Reports To:'] == 112, :]\n",
    "\n",
    "#how many employees are under each supervisor/managers?\n",
    "print(mankey_56_staff.shape[0])\n",
    "print(kabuto_140_staff.shape[0])\n",
    "print(kakuna_14_staff.shape[0])\n",
    "print(rhydon_112_staff.shape[0])"
   ]
  },
  {
   "cell_type": "code",
   "execution_count": 312,
   "metadata": {},
   "outputs": [],
   "source": [
    "#We want a readable org chart(not too long) so we convert each supervisor staff lists to strings \n",
    "#that hold 25 names each\n",
    "def employeeBoxLimit(name_list):\n",
    "    '''This function returns a list with each element only holding 25 employees. If the list has 2 elements with names\n",
    "    then the manager/supervisor will have 2 employee boxes associated with him/her\n",
    "    Input: employee/staff list\n",
    "    Output: a list with 3 elements(list), each element only holds 25 names'''\n",
    "    num_name_boxes = []\n",
    "    \n",
    "    list_1 = []\n",
    "    list_2 = []\n",
    "    list_3 = []\n",
    "\n",
    "    counter = 0\n",
    "    for name in name_list:\n",
    "        if counter <= 24:\n",
    "            list_1.append(name)\n",
    "        elif counter <= 49:\n",
    "            list_2.append(name)\n",
    "        else:\n",
    "            list_3.append(name)\n",
    "\n",
    "        counter += 1\n",
    "      \n",
    "    num_name_boxes.append(list_1)\n",
    "    num_name_boxes.append(list_2)\n",
    "    num_name_boxes.append(list_3)\n",
    "    \n",
    "    return num_name_boxes\n"
   ]
  },
  {
   "cell_type": "code",
   "execution_count": 313,
   "metadata": {},
   "outputs": [],
   "source": [
    "#create the number of employee boxes associated with each supervisor\n",
    "mankey_boxes = employeeBoxLimit(list(mankey_56_staff[\"Name\"]))\n",
    "kabuto_boxes = employeeBoxLimit(list(kabuto_140_staff[\"Name\"]))\n",
    "kakuna_boxes = employeeBoxLimit(list(kakuna_14_staff[\"Name\"]))\n",
    "rhydon_boxes = employeeBoxLimit(list(rhydon_112_staff[\"Name\"]))"
   ]
  },
  {
   "cell_type": "code",
   "execution_count": 314,
   "metadata": {},
   "outputs": [],
   "source": [
    "def createEmployeeList(a_list, seperator):\n",
    "    '''This function returns a list of employees\n",
    "    input: a list with 3 elements of list type, a list are employees associated with 1 supervisors\n",
    "    output: a list with 3 elements with type str, list of employees converted to a string with a seperator'''\n",
    "    name_list = []\n",
    "    \n",
    "    #del any empty elements in the list\n",
    "    counter = 0\n",
    "    for element in a_list:\n",
    "        if len(element) == 0:\n",
    "            a_list.pop(counter)\n",
    "            \n",
    "        counter += 1\n",
    "    \n",
    "    #iterate through each name and create a string with seperator\n",
    "    for element in a_list:\n",
    "        a_str = \"\"\n",
    "        for name in element:\n",
    "            info = name + seperator \n",
    "            a_str = a_str + info\n",
    "        a_str = \"Employees\\l\" + a_str #\"\\l\" in graphviz, left aligns text\n",
    "        name_list.append(a_str)\n",
    "        \n",
    "    return name_list"
   ]
  },
  {
   "cell_type": "code",
   "execution_count": 315,
   "metadata": {},
   "outputs": [],
   "source": [
    "#create list of Employee strings for each Manager/Supervisor \"\\l\" in graphviz, left aligns text\n",
    "mankey_staff_list = createEmployeeList(mankey_boxes, \"\\l\")\n",
    "kabuto_staff_list = createEmployeeList(kabuto_boxes, \"\\l\")\n",
    "kakuna_staff_list = createEmployeeList(kakuna_boxes, \"\\l\")\n",
    "rhydon_staff_list = createEmployeeList(rhydon_boxes, \"\\l\")"
   ]
  },
  {
   "cell_type": "code",
   "execution_count": 316,
   "metadata": {},
   "outputs": [],
   "source": [
    "#create a new dataframe with only Managers & Supervisors\n",
    "first_level_indiv = first_level.loc[first_level[\"Title\"].isin([\"Manager\",\"Supervisor\"]), :]"
   ]
  },
  {
   "cell_type": "code",
   "execution_count": 317,
   "metadata": {},
   "outputs": [],
   "source": [
    "#create a list of the Managers and Supervisors, name + title, \"\\l\" in graphviz, left aligns text\n",
    "first_level_name_list = []\n",
    "\n",
    "for index,row in first_level_indiv.iterrows():\n",
    "    info = row[\"Name\"] + \"\\l\" + row[\"Title\"] + \"\\l\"\n",
    "    first_level_name_list.append(info)"
   ]
  },
  {
   "cell_type": "code",
   "execution_count": 318,
   "metadata": {},
   "outputs": [],
   "source": [
    "#iterate through the first level df and grab the relevant info (name, title)\n",
    "first_level_names = []\n",
    "for index, row in first_level.iterrows():\n",
    "    info = row[\"Name\"]\n",
    "    first_level_names.append(info)\n",
    "  \n",
    "#convert the supporting staff to the Manager to 1 box that is under the Manager\n",
    "support_str = \"\"\n",
    "for name in first_level_names[1:4]:\n",
    "    support_str = support_str + name + \"\\l\"\n",
    "support_str = \"Staff\\l\" + support_str"
   ]
  },
  {
   "cell_type": "code",
   "execution_count": 319,
   "metadata": {},
   "outputs": [],
   "source": [
    "#add the support staff to the first level name list at index 2\n",
    "first_level_name_list.insert(1, support_str)\n",
    "# print(first_level_name_list)"
   ]
  },
  {
   "cell_type": "code",
   "execution_count": 320,
   "metadata": {},
   "outputs": [],
   "source": [
    "#create a list, every element as 2 items, name and reports to\n",
    "#executive record\n",
    "exe = [first_level_name_list[0], first_level_name_list[0]]\n",
    "\n",
    "#support staff record\n",
    "support = [first_level_name_list[1], first_level_name_list[0]]\n",
    "\n",
    "#supervisor records\n",
    "super_mankey = [first_level_name_list[2], first_level_name_list[0]]\n",
    "super_kabuto = [first_level_name_list[3], first_level_name_list[0]]\n",
    "super_kakuna = [first_level_name_list[4], first_level_name_list[0]]\n",
    "super_rhydon = [first_level_name_list[5], first_level_name_list[0]]\n",
    "\n",
    "#employee records\n",
    "emp_mankey_1 = [mankey_staff_list[0], first_level_name_list[2]]\n",
    "emp_mankey_2 = [mankey_staff_list[1], first_level_name_list[2]]\n",
    "emp_kabuto_1 = [kabuto_staff_list[0], first_level_name_list[3]]\n",
    "emp_kabuto_2 = [kabuto_staff_list[1], first_level_name_list[3]]\n",
    "emp_kabuto_3 = [kabuto_staff_list[2], first_level_name_list[3]]\n",
    "emp_kakuna_1 = [kakuna_staff_list[0], first_level_name_list[4]]\n",
    "emp_kakuna_2 = [kakuna_staff_list[1], first_level_name_list[4]]\n",
    "emp_rhydon_1 = [rhydon_staff_list[0], first_level_name_list[5]]\n",
    "\n",
    "#here's the list of all the records we need\n",
    "info_list = [exe, support, super_mankey, super_kabuto, super_kakuna, super_rhydon, emp_mankey_1, emp_mankey_2, \n",
    "             emp_kabuto_1, emp_kabuto_2, emp_kabuto_3, emp_kakuna_1, emp_kakuna_2, emp_rhydon_1]"
   ]
  },
  {
   "cell_type": "code",
   "execution_count": 321,
   "metadata": {},
   "outputs": [],
   "source": [
    "#add all info to a df\n",
    "column_names = [\"Name\", \"Reports To:\"]\n",
    "df_1 = pd.DataFrame(info_list, columns=column_names)\n",
    "\n",
    "#create an id column\n",
    "df_1['ID'] = df_1.reset_index().index"
   ]
  },
  {
   "cell_type": "code",
   "execution_count": 322,
   "metadata": {},
   "outputs": [],
   "source": [
    "def create_graph(df, title, executive_ID, staff_ID, manager_ID_start, manager_ID_end, chart_name):\n",
    "    '''This function creates an hierarchal organization chart.\n",
    "    Input: df = data frame, that is organized in a particular way, reference df_1 or df_2\n",
    "           title = title of the org chart, str type\n",
    "           executive_ID = the ID of the top person/boss/executive, int type\n",
    "           staff_ID = the ID of the supporting staff of the executive, these people are not managers, int type\n",
    "           manager_ID_start = there are many managers and they are consecutive located after one another in \n",
    "                              the data frame, the ID of the first manager ID, int type\n",
    "           manager_ID_end = the ID of the last manager ID, int type\n",
    "           chart_name = the chart image file name\n",
    "    Output: an png file of an organization chart\n",
    "    Note: You can change cell colors, refer to http://graphviz.org/doc/info/colors.html'''\n",
    "    \n",
    "    #import libraries\n",
    "    import graphviz\n",
    "    import pydot\n",
    "    \n",
    "    # instantiate a graph\n",
    "    f = pydot.Dot(graph_type='graph', label = title , rankdir = 'BT', labelloc = \"t\")\n",
    "\n",
    "    #Create Graph Nodes and interconnecting Edges\n",
    "    for index, row in df.iterrows():\n",
    "\n",
    "        #add nodes, based on ID, nodes will be different colors\n",
    "        if row[\"ID\"] == executive_ID:\n",
    "            f.add_node(pydot.Node(str(row[\"Name\"]), shape = 'box', fillcolor=\"lightsalmon\", style = \"filled\"))\n",
    "        elif row[\"ID\"] == staff_ID:\n",
    "            f.add_node(pydot.Node(str(row[\"Name\"]), shape = 'box', fillcolor=\"lightsteelblue1\", style = \"filled\"))\n",
    "        elif manager_ID_start <= row[\"ID\"] <= manager_ID_end:\n",
    "            f.add_node(pydot.Node(str(row[\"Name\"]), shape = 'box', fillcolor=\"cornsilk\", style = \"filled\"))\n",
    "        else:\n",
    "            f.add_node(pydot.Node(str(row[\"Name\"]), shape = 'box', fillcolor=\"gray84\", style = \"filled\"))\n",
    "\n",
    "        #draw edges(connections) between nodes\n",
    "        if row[\"Name\"] != row[\"Reports To:\"]:\n",
    "            f.add_edge(pydot.Edge(str(row[\"Name\"]), str(row[\"Reports To:\"]), dir = \"back\"))\n",
    "        else:\n",
    "            continue\n",
    "\n",
    "    return f.write_png(chart_name)"
   ]
  },
  {
   "cell_type": "code",
   "execution_count": 323,
   "metadata": {},
   "outputs": [],
   "source": [
    "#Example 1 : Cleaning the csv file in python and running the following code by passing a data frame\n",
    "#uses df_1: the dataframe we just created from above\n",
    "\n",
    "#Create the Org Chart\n",
    "create_graph(df_1, 'Pokemon Org Chart\\n', 0, 1, 2, 5, 'example1_graph.png')"
   ]
  },
  {
   "cell_type": "code",
   "execution_count": 324,
   "metadata": {},
   "outputs": [],
   "source": [
    "#Example 2 : All you need to do is input the csv file, \n",
    "#uses pokemon_org_V2.csv, this csv is manually formated in excel\n",
    "\n",
    "df_2 = pd.read_csv(\"Pokemon_Org_V2.csv\")\n",
    "\n",
    "#Create the Org Chart\n",
    "create_graph(df_2, 'Pokemon Org Chart\\n', 0, 1, 2, 5, 'example2_graph.png')"
   ]
  },
  {
   "cell_type": "code",
   "execution_count": null,
   "metadata": {},
   "outputs": [],
   "source": []
  }
 ],
 "metadata": {
  "kernelspec": {
   "display_name": "Python 3",
   "language": "python",
   "name": "python3"
  },
  "language_info": {
   "codemirror_mode": {
    "name": "ipython",
    "version": 3
   },
   "file_extension": ".py",
   "mimetype": "text/x-python",
   "name": "python",
   "nbconvert_exporter": "python",
   "pygments_lexer": "ipython3",
   "version": "3.8.1"
  }
 },
 "nbformat": 4,
 "nbformat_minor": 4
}
